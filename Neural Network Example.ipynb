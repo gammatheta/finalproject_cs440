{
 "cells": [
  {
   "cell_type": "code",
   "execution_count": 2,
   "metadata": {},
   "outputs": [],
   "source": [
    "import numpy as np\n",
    "import matplotlib\n",
    "import random"
   ]
  },
  {
   "cell_type": "code",
   "execution_count": 6,
   "metadata": {},
   "outputs": [
    {
     "name": "stdout",
     "output_type": "stream",
     "text": [
      "35.7\n"
     ]
    }
   ],
   "source": [
    "inputs = [1.2, 5.1, 2.1]\n",
    "weights = [3.1, 2.1, 8.7]\n",
    "bias = 3\n",
    "\n",
    "output = inputs[0]* weights[0] + inputs[1]* weights[1] + inputs[2]* weights[2] + bias\n",
    "print(output)"
   ]
  },
  {
   "cell_type": "code",
   "execution_count": 31,
   "metadata": {},
   "outputs": [
    {
     "data": {
      "text/plain": [
       "array([[0.        , 0.        , 0.20335442],\n",
       "       [0.1326759 , 0.30904869, 0.60198258]])"
      ]
     },
     "execution_count": 31,
     "metadata": {},
     "output_type": "execute_result"
    }
   ],
   "source": [
    "def relu(z): \n",
    "    # activation function\n",
    "    return np.maximum(0,z)\n",
    "\n",
    "feats = np.random.rand(3,4)\n",
    "weights = np.random.rand(2,4)\n",
    "b = np.random.rand(2,1)\n",
    "activ = np.dot(weights, feats.T) - b\n",
    "\n",
    "activo = relu(activ)\n",
    "activo"
   ]
  },
  {
   "cell_type": "code",
   "execution_count": 3,
   "metadata": {},
   "outputs": [
    {
     "name": "stdout",
     "output_type": "stream",
     "text": [
      "Sigmoid output: [0.26894142 0.5        0.73105858 0.88079708]\n",
      "ReLU output: [0 0 1 2]\n"
     ]
    }
   ],
   "source": [
    "def sigmoid(x):\n",
    "    return 1 / (1 + np.exp(-x))\n",
    "\n",
    "def relu(x):\n",
    "    return np.maximum(0, x)\n",
    "\n",
    "# Example input array\n",
    "x = np.array([-1, 0, 1, 2])\n",
    "\n",
    "# Applying sigmoid and ReLU\n",
    "sigmoid_output = sigmoid(x)\n",
    "relu_output = relu(x)\n",
    "\n",
    "print(\"Sigmoid output:\", sigmoid_output)\n",
    "print(\"ReLU output:\", relu_output)"
   ]
  },
  {
   "cell_type": "code",
   "execution_count": 43,
   "metadata": {},
   "outputs": [
    {
     "data": {
      "text/plain": [
       "array([[-0.1,  0. ,  0. ],\n",
       "       [ 0.1,  0. ,  0. ],\n",
       "       [ 0.2,  0. ,  0. ],\n",
       "       [ 0.3,  0. ,  0. ]])"
      ]
     },
     "execution_count": 43,
     "metadata": {},
     "output_type": "execute_result"
    }
   ],
   "source": [
    "x = np.array([[-0.1, 0.3, 0.4],\n",
    "            [0.1, 2, 0.2],\n",
    "            [0.2, 1, 0.1],\n",
    "            [0.3, 0, 0.4]]) \n",
    "arr = np.any(x == 0, axis=0)\n",
    "res = np.where(arr)[0]\n",
    "x[:,res] = 0\n",
    "x"
   ]
  },
  {
   "cell_type": "code",
   "execution_count": null,
   "metadata": {},
   "outputs": [],
   "source": []
  }
 ],
 "metadata": {
  "kernelspec": {
   "display_name": "base",
   "language": "python",
   "name": "python3"
  },
  "language_info": {
   "codemirror_mode": {
    "name": "ipython",
    "version": 3
   },
   "file_extension": ".py",
   "mimetype": "text/x-python",
   "name": "python",
   "nbconvert_exporter": "python",
   "pygments_lexer": "ipython3",
   "version": "3.11.5"
  }
 },
 "nbformat": 4,
 "nbformat_minor": 2
}
